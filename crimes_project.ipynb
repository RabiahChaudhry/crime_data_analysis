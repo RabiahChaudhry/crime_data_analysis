{
 "cells": [
  {
   "cell_type": "code",
   "execution_count": null,
   "id": "4d95a2a5-b2c7-4692-b0dc-5ba50e13f8cf",
   "metadata": {},
   "outputs": [],
   "source": [
    "import matplotlib.pyplot as plt"
   ]
  },
  {
   "cell_type": "code",
   "execution_count": null,
   "id": "04d2a814-6d3f-44cf-9740-dde8784024ac",
   "metadata": {},
   "outputs": [],
   "source": [
    "from encodings.aliases import aliases"
   ]
  },
  {
   "cell_type": "code",
   "execution_count": null,
   "id": "1b126a4e-d4df-45fb-89d2-5e030d6968e4",
   "metadata": {},
   "outputs": [],
   "source": [
    "import numpy as np\n",
    "import pandas as pd"
   ]
  },
  {
   "cell_type": "code",
   "execution_count": null,
   "id": "e9ff9d18-cc3f-43c4-be85-60a294dcf270",
   "metadata": {},
   "outputs": [],
   "source": [
    "%matplotlib inline"
   ]
  },
  {
   "cell_type": "code",
   "execution_count": null,
   "id": "df009f75-2664-456c-92b3-0ef66b56a8b0",
   "metadata": {},
   "outputs": [],
   "source": [
    "alias_values = set(aliases.values()) #all of this code is for finding the encoding that could help read the file\n",
    "\n",
    "for encoding in set(aliases.values()):\n",
    "    try:\n",
    "        df=pd.read_csv(\"crime.csv\",nrows=10,encoding=encoding)\n",
    "        print(\"successful\",encoding)\n",
    "    except:\n",
    "        pass"
   ]
  },
  {
   "cell_type": "code",
   "execution_count": null,
   "id": "e4a021f8-70bc-488a-8491-ec87e95d4920",
   "metadata": {},
   "outputs": [],
   "source": [
    "encoding"
   ]
  },
  {
   "cell_type": "code",
   "execution_count": null,
   "id": "a3f86f1c-c276-448a-832b-28b78f1df48b",
   "metadata": {},
   "outputs": [],
   "source": [
    "crime = pd.read_csv(r\"C:\\Users\\hp\\Desktop\\crime.csv\", encoding=\"utf_16_be\")\n"
   ]
  },
  {
   "cell_type": "code",
   "execution_count": null,
   "id": "c164202b-857a-4c93-8baf-c6b0fcb9c087",
   "metadata": {},
   "outputs": [],
   "source": [
    "crime"
   ]
  },
  {
   "cell_type": "code",
   "execution_count": null,
   "id": "3af08be9-7c85-4f7f-89f6-f86293fc59a7",
   "metadata": {},
   "outputs": [],
   "source": [
    "crime.shape\n"
   ]
  },
  {
   "cell_type": "code",
   "execution_count": null,
   "id": "adc1be1c-2850-4fc1-8ab1-8eaf762633bb",
   "metadata": {},
   "outputs": [],
   "source": [
    "crime.duplicated() #in order to find all the values that are duplicated"
   ]
  },
  {
   "cell_type": "code",
   "execution_count": null,
   "id": "d7f503fa-ac8a-4827-bd42-d0b3863bf673",
   "metadata": {},
   "outputs": [],
   "source": [
    "crime.drop_duplicates(inplace=True) #dropping all the duplicate rows"
   ]
  },
  {
   "cell_type": "code",
   "execution_count": null,
   "id": "65b1de46-7a9d-4804-854f-8cfd711db91b",
   "metadata": {},
   "outputs": [],
   "source": [
    "crime.shape #now looking at the dataset again"
   ]
  },
  {
   "cell_type": "code",
   "execution_count": null,
   "id": "a2ecc4e8-cb33-4748-96eb-9357a5604515",
   "metadata": {},
   "outputs": [],
   "source": [
    "crime.head()"
   ]
  },
  {
   "cell_type": "code",
   "execution_count": null,
   "id": "8ad90e36-bf34-4797-ac22-a8fa1331819d",
   "metadata": {},
   "outputs": [],
   "source": [
    "pd.options.display.max_rows=10"
   ]
  },
  {
   "cell_type": "code",
   "execution_count": null,
   "id": "84d7dbca-f7e1-4ed9-b920-8ebf17beab9b",
   "metadata": {},
   "outputs": [],
   "source": [
    "crime.info()"
   ]
  },
  {
   "cell_type": "code",
   "execution_count": null,
   "id": "cf31c1ab-3a94-45de-909d-0a64107f9039",
   "metadata": {},
   "outputs": [],
   "source": [
    "crime"
   ]
  },
  {
   "cell_type": "code",
   "execution_count": null,
   "id": "9464e970-a2cc-4280-93f8-cc1e3f663c7b",
   "metadata": {},
   "outputs": [],
   "source": [
    "crime.OCCURRED_ON_DATE=pd.to_datetime(crime.OCCURRED_ON_DATE)"
   ]
  },
  {
   "cell_type": "code",
   "execution_count": null,
   "id": "3bebb2d5-675f-466e-a78d-50aa151817b9",
   "metadata": {},
   "outputs": [],
   "source": [
    "crime.info()"
   ]
  },
  {
   "cell_type": "code",
   "execution_count": null,
   "id": "bfdcf596-94cd-4fe9-89c7-5a4cc67e1f32",
   "metadata": {},
   "outputs": [],
   "source": [
    "crime.OCCURRED_ON_DATE.dt.month"
   ]
  },
  {
   "cell_type": "code",
   "execution_count": null,
   "id": "b236f5dd-b3ca-40ab-8836-0bf9985de4b3",
   "metadata": {},
   "outputs": [],
   "source": [
    "crime.OCCURRED_ON_DATE.dt.year"
   ]
  },
  {
   "cell_type": "code",
   "execution_count": null,
   "id": "9e43ab7e-a69f-40a0-99f1-e5691412d136",
   "metadata": {},
   "outputs": [],
   "source": [
    "crime.OCCURRED_ON_DATE.dt.hour"
   ]
  },
  {
   "cell_type": "code",
   "execution_count": null,
   "id": "1c69d564-018e-4169-a510-48031aa08732",
   "metadata": {},
   "outputs": [],
   "source": [
    "crime.OCCURRED_ON_DATE.dt.minute"
   ]
  },
  {
   "cell_type": "code",
   "execution_count": null,
   "id": "67ba59da-9cef-42c4-aa06-358b83ada090",
   "metadata": {},
   "outputs": [],
   "source": [
    "crime.OCCURRED_ON_DATE.dt.second"
   ]
  },
  {
   "cell_type": "code",
   "execution_count": null,
   "id": "c64a1356-4fa8-42dc-a667-061b657e7c67",
   "metadata": {},
   "outputs": [],
   "source": [
    "crime.describe()"
   ]
  },
  {
   "cell_type": "code",
   "execution_count": null,
   "id": "b9967472-1450-411e-a636-172831c87fc4",
   "metadata": {},
   "outputs": [],
   "source": [
    "crime.describe(include='object')"
   ]
  },
  {
   "cell_type": "code",
   "execution_count": null,
   "id": "a062c2f0-184a-4c64-bbf6-f12065f5724c",
   "metadata": {},
   "outputs": [],
   "source": [
    "crime.columns"
   ]
  },
  {
   "cell_type": "code",
   "execution_count": null,
   "id": "756fd55a-fc47-4c6c-84b0-4603192caf2b",
   "metadata": {},
   "outputs": [],
   "source": [
    "crime.columns[np.sum(crime.isnull(), axis=0) != 0]\n",
    "#checking for columns with missing values"
   ]
  },
  {
   "cell_type": "code",
   "execution_count": null,
   "id": "328ec896-a55b-49ba-975f-40b07bd0035c",
   "metadata": {},
   "outputs": [],
   "source": [
    "#checking for columns with no missing values\n",
    "crime.columns[np.sum(crime.isnull(), axis=0) == 0]"
   ]
  },
  {
   "cell_type": "code",
   "execution_count": null,
   "id": "0f5b99ad-35ac-4d85-99dd-8d5588d870a9",
   "metadata": {},
   "outputs": [],
   "source": [
    "for col in crime.columns:\n",
    "    unique_count=crime[col].nunique()\n",
    "    print(col + \"has\" + str(unique_count) + \"unique values\")"
   ]
  },
  {
   "cell_type": "code",
   "execution_count": null,
   "id": "213bb155-fa5a-4ffb-bd04-85dc7db9232e",
   "metadata": {},
   "outputs": [],
   "source": [
    "#list of the top 10 most common offense groups/crimes committed\n",
    "most_common_offense_groups=crime.OFFENSE_CODE_GROUP.value_counts()[:10]\n",
    "least_common_offenses=crime.OFFENSE_CODE_GROUP.value_counts().sort_values()[:10]\n",
    "most_common_offense_groups"
   ]
  },
  {
   "cell_type": "code",
   "execution_count": null,
   "id": "1ecd94ec-0b81-4d1a-ba90-b7f5e6f9b380",
   "metadata": {},
   "outputs": [],
   "source": [
    "least_common_offenses"
   ]
  },
  {
   "cell_type": "code",
   "execution_count": null,
   "id": "ad74e74e-cfb6-40e1-a51f-7f2ce5a40685",
   "metadata": {},
   "outputs": [],
   "source": [
    "display(offense_group_vals*100/crime.shape[0])\n",
    "\n",
    "#Creating a bar chart of Top 10 offense groups\n",
    "(offense_group_vals*100/crime.shape[0]).plot(kind='bar');\n",
    "plt.title('Top 10 Offense Groups(as % of all crimes)');"
   ]
  },
  {
   "cell_type": "code",
   "execution_count": null,
   "id": "6189d30e-cd5d-46c1-b9f3-3309c794a6ad",
   "metadata": {},
   "outputs": [],
   "source": [
    "#list of the least common offenses\n",
    "least_common_offenses=crime.OFFENSE_CODE_GROUP.value_counts().sort_values()[:10]\n",
    "#least_common_offenses = crime['OFFENSE_CODE_GROUP'].value_counts().sort_values()[:10]\n",
    "\n",
    "#offense_group_vals=crime.OFFENSE_CODE_GROUP.value_counts()[:10]\n",
    "least_common_offenses"
   ]
  },
  {
   "cell_type": "code",
   "execution_count": null,
   "id": "6652915a-ca0f-4048-b3ec-f09f2a4a18de",
   "metadata": {},
   "outputs": [],
   "source": [
    "\n",
    "least_common_offenses*100/crime.shape[0]\n"
   ]
  },
  {
   "cell_type": "code",
   "execution_count": null,
   "id": "e44f2244-daff-4099-890d-f98dc3e81a85",
   "metadata": {},
   "outputs": [],
   "source": [
    "#least_common_offenses*100/crime.shape[0].plot(kind='bar');\n",
    "(least_common_offenses * 100 / crime.shape[0]).plot(kind='bar')\n",
    "\n",
    "plt.title('10 least common offense Groups(as % of all crimes)');"
   ]
  },
  {
   "cell_type": "code",
   "execution_count": null,
   "id": "e57ab5e1-7ba5-4163-8cea-3580ea95a93c",
   "metadata": {},
   "outputs": [],
   "source": [
    "crime\n"
   ]
  },
  {
   "cell_type": "code",
   "execution_count": null,
   "id": "d36747c0-b901-4895-9c83-a6003e4dada6",
   "metadata": {},
   "outputs": [],
   "source": [
    "#most common offense descriptions\n",
    "most_common_offense_description=crime.OFFENSE_DESCRIPTION.value_counts()[:10]\n",
    "most_common_offense_description\n"
   ]
  },
  {
   "cell_type": "code",
   "execution_count": null,
   "id": "44248221-c224-471e-8a96-c33c40c8409b",
   "metadata": {},
   "outputs": [],
   "source": [
    "#top ten offense descriptions as a percentage of total crimes\n",
    "display(most_common_offense_description / crime.shape[0])\n",
    "(most_common_offense_description*100/crime.shape[0]).plot(kind='bar');\n",
    "plt.title('Top 10 Offense Descriptions (as % of all crimes)');"
   ]
  },
  {
   "cell_type": "code",
   "execution_count": null,
   "id": "2051d20d-b1b5-448f-8253-a0b6af989e8c",
   "metadata": {},
   "outputs": [],
   "source": [
    "crime.groupby('YEAR').count()['INCIDENT_NUMBER']"
   ]
  },
  {
   "cell_type": "code",
   "execution_count": null,
   "id": "93cd0c7a-4b1a-4115-be88-455bed65619b",
   "metadata": {},
   "outputs": [],
   "source": [
    "#In which year were the most crimes committed\n",
    "crime.groupby('YEAR').count()['INCIDENT_NUMBER'].plot(kind='bar')\n",
    "plt.title('Number of crimes')"
   ]
  },
  {
   "cell_type": "code",
   "execution_count": null,
   "id": "de58844a-9495-4d0f-ad3f-12be0f38dfaa",
   "metadata": {},
   "outputs": [],
   "source": [
    "#Are there more crimes committed on specific days\n",
    "crime.groupby('DAY_OF_WEEK').count()['INCIDENT_NUMBER']"
   ]
  },
  {
   "cell_type": "code",
   "execution_count": null,
   "id": "274af164-e8ca-450a-9df3-17113134c085",
   "metadata": {},
   "outputs": [],
   "source": [
    "crime.groupby('DAY_OF_WEEK').count()['INCIDENT_NUMBER'].plot(kind='bar')\n",
    "plt.title('Number of crimes')"
   ]
  },
  {
   "cell_type": "code",
   "execution_count": null,
   "id": "efb3f888-e320-4b23-ab1b-97b7aec47134",
   "metadata": {},
   "outputs": [],
   "source": [
    "crime"
   ]
  },
  {
   "cell_type": "code",
   "execution_count": null,
   "id": "eb69e54c-840b-470c-9a4f-190470d32ed5",
   "metadata": {},
   "outputs": [],
   "source": [
    "#Are there more crimes during specific hours\n",
    "crime.groupby('HOUR').count()['INCIDENT_NUMBER'].plot(kind='bar')\n",
    "plt.title('Number of crimes')"
   ]
  },
  {
   "cell_type": "code",
   "execution_count": null,
   "id": "88f25503-1245-43b5-a775-5663953f540f",
   "metadata": {},
   "outputs": [],
   "source": [
    "#On which days and during which hours are the most crimes committed?\n",
    "week_and_hour=crime.groupby(['HOUR','DAY_OF_WEEK']).count()['INCIDENT_NUMBER'].unstack()\n"
   ]
  },
  {
   "cell_type": "code",
   "execution_count": null,
   "id": "52b7abe3-dc1f-4a02-b6b2-3732ce376399",
   "metadata": {},
   "outputs": [],
   "source": [
    "#week_and_hour.columns=['Monday','Tuesday','Wednesday','Thursday','Friday','Saturday','Sunday']\n"
   ]
  },
  {
   "cell_type": "code",
   "execution_count": null,
   "id": "4f3e4680-94e2-40a3-b440-43638b92e415",
   "metadata": {},
   "outputs": [],
   "source": [
    "import seaborn as sns"
   ]
  },
  {
   "cell_type": "code",
   "execution_count": null,
   "id": "ded27ec2-c30e-49b4-a98c-73afc95aa6a0",
   "metadata": {},
   "outputs": [],
   "source": [
    "sns.heatmap(week_and_hour,cmap=sns.cubehelix_palette(as_cmap=True));"
   ]
  },
  {
   "cell_type": "code",
   "execution_count": null,
   "id": "50a66339-ef3d-416a-98ce-d4638666a6eb",
   "metadata": {},
   "outputs": [],
   "source": [
    "#In which months were the number of crimes below average? \n",
    "\n",
    "# In which months on average did the most crimes occur?"
   ]
  }
 ],
 "metadata": {
  "kernelspec": {
   "display_name": "Python 3 (ipykernel)",
   "language": "python",
   "name": "python3"
  },
  "language_info": {
   "codemirror_mode": {
    "name": "ipython",
    "version": 3
   },
   "file_extension": ".py",
   "mimetype": "text/x-python",
   "name": "python",
   "nbconvert_exporter": "python",
   "pygments_lexer": "ipython3",
   "version": "3.12.0"
  }
 },
 "nbformat": 4,
 "nbformat_minor": 5
}
